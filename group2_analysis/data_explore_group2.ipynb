{
 "metadata": {
  "language_info": {
   "codemirror_mode": {
    "name": "ipython",
    "version": 3
   },
   "file_extension": ".py",
   "mimetype": "text/x-python",
   "name": "python",
   "nbconvert_exporter": "python",
   "pygments_lexer": "ipython3",
   "version": "3.7.9-final"
  },
  "orig_nbformat": 2,
  "kernelspec": {
   "name": "python379jvsc74a57bd0185682abfd9f665f5ace63c8dbf57ce50d75e1e561efde62f688fc77323a725a",
   "display_name": "Python 3.7.9 64-bit ('PythonData': conda)"
  }
 },
 "nbformat": 4,
 "nbformat_minor": 2,
 "cells": [
  {
   "source": [
    "# Covid-19 Vaccine Allocations and Case Counts Analysis\n",
    "----\n",
    "\n",
    "Written in the Python 3.7.9 Environment\n",
    "\n",
    "By Tarak Patel, Nicole Lund and Anne Niemiec.\n",
    "\n",
    "Common Jupyter cells have been notated for ease of merging after individuals their analysis.\n",
    "\n",
    "Individual working files will be merged using https://pypi.org/project/nbmerge/"
   ],
   "cell_type": "markdown",
   "metadata": {}
  },
  {
   "cell_type": "code",
   "execution_count": 6,
   "metadata": {},
   "outputs": [],
   "source": [
    "### This is a common Jupyter Cell.  Do not modify without coordination. ###\n",
    "\n",
    "# Load Dependencies\n",
    "\n",
    "# Data Organization & Collection\n",
    "import pandas as pd\n",
    "import requests\n",
    "import json\n",
    "from census import Census\n",
    "\n",
    "# Data Visualization & Analysis\n",
    "import matplotlib.pyplot as plt\n",
    "import numpy as np\n",
    "import scipy.stats as st\n",
    "import gmaps\n",
    "\n",
    "# General Navigation\n",
    "import time\n",
    "import os\n",
    "import sys"
   ]
  },
  {
   "cell_type": "code",
   "execution_count": 7,
   "metadata": {},
   "outputs": [],
   "source": [
    "# Define users api key file folder location\n",
    "api_key_path = r\"C:\\Users\\nlund\\Documents\\GitHub\\untracked_files\""
   ]
  },
  {
   "cell_type": "code",
   "execution_count": 8,
   "metadata": {},
   "outputs": [],
   "source": [
    "### This is a common Jupyter Cell.  Do not modify without coordination. ###\n",
    "\n",
    "# Add API key file to system path\n",
    "# sys.path.append(api_key_path)\n",
    "\n",
    "# # Import Census API Key\n",
    "# from untracked_api_keys import census_key\n",
    "# c = Census(census_key, year=2019)\n",
    "\n",
    "# # Import Google API key\n",
    "# from untracked_api_keys import g_key"
   ]
  },
  {
   "cell_type": "code",
   "execution_count": 9,
   "metadata": {},
   "outputs": [
    {
     "output_type": "execute_result",
     "data": {
      "text/plain": [
       "       state_name state_code        date  day_num  total_cases  \\\n",
       "0          Alaska         AK  12/14/2020        0        40160   \n",
       "1         Alabama         AL  12/14/2020        0       297895   \n",
       "2        Arkansas         AR  12/14/2020        0       187057   \n",
       "3  American Samoa         AS  12/14/2020        0            3   \n",
       "4         Arizona         AZ  12/14/2020        0       420248   \n",
       "\n",
       "   confirmed_cases  probable_cases  new_cases  pnew_cases  total_deaths  \\\n",
       "0              0.0             0.0        422         0.0           175   \n",
       "1         244762.0         53133.0       2264       332.0          4102   \n",
       "2              0.0             0.0       1355       122.0          2990   \n",
       "3              0.0             0.0          0         0.0             0   \n",
       "4         404294.0         15954.0      11806       503.0          7358   \n",
       "\n",
       "   confirmed_deaths  probable_deaths  new_deaths  pnew_deaths consent_cases  \\\n",
       "0               0.0              0.0           0          0.0             0   \n",
       "1            3624.0            478.0           0          0.0         Agree   \n",
       "2               0.0              0.0          45         22.0     Not agree   \n",
       "3               0.0              0.0           0          0.0             0   \n",
       "4            6782.0            576.0           1         -2.0         Agree   \n",
       "\n",
       "  consent_deaths        created_at  \n",
       "0              0  12/15/2020 14:39  \n",
       "1          Agree  12/15/2020 14:39  \n",
       "2      Not agree  12/15/2020 14:39  \n",
       "3              0  12/15/2020 14:39  \n",
       "4          Agree  12/15/2020 14:39  "
      ],
      "text/html": "<div>\n<style scoped>\n    .dataframe tbody tr th:only-of-type {\n        vertical-align: middle;\n    }\n\n    .dataframe tbody tr th {\n        vertical-align: top;\n    }\n\n    .dataframe thead th {\n        text-align: right;\n    }\n</style>\n<table border=\"1\" class=\"dataframe\">\n  <thead>\n    <tr style=\"text-align: right;\">\n      <th></th>\n      <th>state_name</th>\n      <th>state_code</th>\n      <th>date</th>\n      <th>day_num</th>\n      <th>total_cases</th>\n      <th>confirmed_cases</th>\n      <th>probable_cases</th>\n      <th>new_cases</th>\n      <th>pnew_cases</th>\n      <th>total_deaths</th>\n      <th>confirmed_deaths</th>\n      <th>probable_deaths</th>\n      <th>new_deaths</th>\n      <th>pnew_deaths</th>\n      <th>consent_cases</th>\n      <th>consent_deaths</th>\n      <th>created_at</th>\n    </tr>\n  </thead>\n  <tbody>\n    <tr>\n      <th>0</th>\n      <td>Alaska</td>\n      <td>AK</td>\n      <td>12/14/2020</td>\n      <td>0</td>\n      <td>40160</td>\n      <td>0.0</td>\n      <td>0.0</td>\n      <td>422</td>\n      <td>0.0</td>\n      <td>175</td>\n      <td>0.0</td>\n      <td>0.0</td>\n      <td>0</td>\n      <td>0.0</td>\n      <td>0</td>\n      <td>0</td>\n      <td>12/15/2020 14:39</td>\n    </tr>\n    <tr>\n      <th>1</th>\n      <td>Alabama</td>\n      <td>AL</td>\n      <td>12/14/2020</td>\n      <td>0</td>\n      <td>297895</td>\n      <td>244762.0</td>\n      <td>53133.0</td>\n      <td>2264</td>\n      <td>332.0</td>\n      <td>4102</td>\n      <td>3624.0</td>\n      <td>478.0</td>\n      <td>0</td>\n      <td>0.0</td>\n      <td>Agree</td>\n      <td>Agree</td>\n      <td>12/15/2020 14:39</td>\n    </tr>\n    <tr>\n      <th>2</th>\n      <td>Arkansas</td>\n      <td>AR</td>\n      <td>12/14/2020</td>\n      <td>0</td>\n      <td>187057</td>\n      <td>0.0</td>\n      <td>0.0</td>\n      <td>1355</td>\n      <td>122.0</td>\n      <td>2990</td>\n      <td>0.0</td>\n      <td>0.0</td>\n      <td>45</td>\n      <td>22.0</td>\n      <td>Not agree</td>\n      <td>Not agree</td>\n      <td>12/15/2020 14:39</td>\n    </tr>\n    <tr>\n      <th>3</th>\n      <td>American Samoa</td>\n      <td>AS</td>\n      <td>12/14/2020</td>\n      <td>0</td>\n      <td>3</td>\n      <td>0.0</td>\n      <td>0.0</td>\n      <td>0</td>\n      <td>0.0</td>\n      <td>0</td>\n      <td>0.0</td>\n      <td>0.0</td>\n      <td>0</td>\n      <td>0.0</td>\n      <td>0</td>\n      <td>0</td>\n      <td>12/15/2020 14:39</td>\n    </tr>\n    <tr>\n      <th>4</th>\n      <td>Arizona</td>\n      <td>AZ</td>\n      <td>12/14/2020</td>\n      <td>0</td>\n      <td>420248</td>\n      <td>404294.0</td>\n      <td>15954.0</td>\n      <td>11806</td>\n      <td>503.0</td>\n      <td>7358</td>\n      <td>6782.0</td>\n      <td>576.0</td>\n      <td>1</td>\n      <td>-2.0</td>\n      <td>Agree</td>\n      <td>Agree</td>\n      <td>12/15/2020 14:39</td>\n    </tr>\n  </tbody>\n</table>\n</div>"
     },
     "metadata": {},
     "execution_count": 9
    }
   ],
   "source": [
    "### This is a common Jupyter Cell.  Do not modify without coordination. ###\n",
    "\n",
    "# Load clean data for Case and Death Counts by state and time\n",
    "    # This data combines:\n",
    "        # United_States_COVID-19_Cases_and_Deaths_by_State_over_Time.csv'\n",
    "        # state_code.csv\n",
    "\n",
    "c_d_withstate_df_path = r\"..\\data_manipulation\\clean_data\\c_d_withstate_df.csv\"\n",
    "cases_deaths_df = pd.read_csv(c_d_withstate_df_path)\n",
    "cases_deaths_df.head()"
   ]
  },
  {
   "cell_type": "code",
   "execution_count": 10,
   "metadata": {},
   "outputs": [
    {
     "output_type": "execute_result",
     "data": {
      "text/plain": [
       "      state_name state_code        date  day_num  pfe_dose_1  pfe_dose_2  \\\n",
       "0    Connecticut         CT  04/19/2021      126       54990       54990   \n",
       "1          Maine         ME  04/19/2021      126       21060       21060   \n",
       "2  Massachusetts         MA  04/19/2021      126      105300      105300   \n",
       "3  New Hampshire         NH  04/19/2021      126       21060       21060   \n",
       "4   Rhode Island         RI  04/19/2021      126       16380       16380   \n",
       "\n",
       "   mrna_dose_1  mrna_dose_2  jnj_dose_1  \n",
       "0      40400.0      40400.0         0.0  \n",
       "1      15400.0      15400.0         0.0  \n",
       "2      77700.0      77700.0         0.0  \n",
       "3      15500.0      15500.0         0.0  \n",
       "4      12100.0      12100.0         0.0  "
      ],
      "text/html": "<div>\n<style scoped>\n    .dataframe tbody tr th:only-of-type {\n        vertical-align: middle;\n    }\n\n    .dataframe tbody tr th {\n        vertical-align: top;\n    }\n\n    .dataframe thead th {\n        text-align: right;\n    }\n</style>\n<table border=\"1\" class=\"dataframe\">\n  <thead>\n    <tr style=\"text-align: right;\">\n      <th></th>\n      <th>state_name</th>\n      <th>state_code</th>\n      <th>date</th>\n      <th>day_num</th>\n      <th>pfe_dose_1</th>\n      <th>pfe_dose_2</th>\n      <th>mrna_dose_1</th>\n      <th>mrna_dose_2</th>\n      <th>jnj_dose_1</th>\n    </tr>\n  </thead>\n  <tbody>\n    <tr>\n      <th>0</th>\n      <td>Connecticut</td>\n      <td>CT</td>\n      <td>04/19/2021</td>\n      <td>126</td>\n      <td>54990</td>\n      <td>54990</td>\n      <td>40400.0</td>\n      <td>40400.0</td>\n      <td>0.0</td>\n    </tr>\n    <tr>\n      <th>1</th>\n      <td>Maine</td>\n      <td>ME</td>\n      <td>04/19/2021</td>\n      <td>126</td>\n      <td>21060</td>\n      <td>21060</td>\n      <td>15400.0</td>\n      <td>15400.0</td>\n      <td>0.0</td>\n    </tr>\n    <tr>\n      <th>2</th>\n      <td>Massachusetts</td>\n      <td>MA</td>\n      <td>04/19/2021</td>\n      <td>126</td>\n      <td>105300</td>\n      <td>105300</td>\n      <td>77700.0</td>\n      <td>77700.0</td>\n      <td>0.0</td>\n    </tr>\n    <tr>\n      <th>3</th>\n      <td>New Hampshire</td>\n      <td>NH</td>\n      <td>04/19/2021</td>\n      <td>126</td>\n      <td>21060</td>\n      <td>21060</td>\n      <td>15500.0</td>\n      <td>15500.0</td>\n      <td>0.0</td>\n    </tr>\n    <tr>\n      <th>4</th>\n      <td>Rhode Island</td>\n      <td>RI</td>\n      <td>04/19/2021</td>\n      <td>126</td>\n      <td>16380</td>\n      <td>16380</td>\n      <td>12100.0</td>\n      <td>12100.0</td>\n      <td>0.0</td>\n    </tr>\n  </tbody>\n</table>\n</div>"
     },
     "metadata": {},
     "execution_count": 10
    }
   ],
   "source": [
    "### This is a common Jupyter Cell.  Do not modify without coordination. ###\n",
    "\n",
    "# Load clean data for Vaccination Allocation Data by state and time\n",
    "    # This data combines:\n",
    "        # COVID-19_Vaccine_Distribution_Allocations_by_Jurisdiction_-_Pfizer.csv\n",
    "        # COVID-19_Vaccine_Distribution_Allocations_by_Jurisdiction_-_Moderna.csv\n",
    "        # COVID-19_Vaccine_Distribution_Allocations_by_Jurisdiction_-_Janssen.csv\n",
    "\n",
    "Combined_Vaccine_df_path = r\"..\\data_manipulation\\clean_data\\Combined_Vaccine_df.csv\"\n",
    "vaccine_allocation_df = pd.read_csv(Combined_Vaccine_df_path)\n",
    "vaccine_allocation_df.head()"
   ]
  },
  {
   "cell_type": "code",
   "execution_count": 11,
   "metadata": {},
   "outputs": [
    {
     "output_type": "execute_result",
     "data": {
      "text/plain": [
       "   state_name state_code  population  median_age  household_income  \\\n",
       "0     Alabama         AL   4876250.0        39.0           50536.0   \n",
       "1      Alaska         AK    737068.0        34.3           77640.0   \n",
       "2     Arizona         AZ   7050299.0        37.7           58945.0   \n",
       "3    Arkansas         AR   2999370.0        38.1           47597.0   \n",
       "4  California         CA  39283497.0        36.5           75235.0   \n",
       "\n",
       "   per_capita_income  poverty_count  poverty_rate  unemployment_count  \\\n",
       "0            27928.0       795989.0     16.323794            132095.0   \n",
       "1            36787.0        76933.0     10.437707             26808.0   \n",
       "2            30694.0      1043764.0     14.804535            195905.0   \n",
       "3            26577.0       496260.0     16.545475             70481.0   \n",
       "4            36955.0      5149742.0     13.109174           1199233.0   \n",
       "\n",
       "   unemployment_rate  \n",
       "0           2.708946  \n",
       "1           3.637114  \n",
       "2           2.778676  \n",
       "3           2.349860  \n",
       "4           3.052765  "
      ],
      "text/html": "<div>\n<style scoped>\n    .dataframe tbody tr th:only-of-type {\n        vertical-align: middle;\n    }\n\n    .dataframe tbody tr th {\n        vertical-align: top;\n    }\n\n    .dataframe thead th {\n        text-align: right;\n    }\n</style>\n<table border=\"1\" class=\"dataframe\">\n  <thead>\n    <tr style=\"text-align: right;\">\n      <th></th>\n      <th>state_name</th>\n      <th>state_code</th>\n      <th>population</th>\n      <th>median_age</th>\n      <th>household_income</th>\n      <th>per_capita_income</th>\n      <th>poverty_count</th>\n      <th>poverty_rate</th>\n      <th>unemployment_count</th>\n      <th>unemployment_rate</th>\n    </tr>\n  </thead>\n  <tbody>\n    <tr>\n      <th>0</th>\n      <td>Alabama</td>\n      <td>AL</td>\n      <td>4876250.0</td>\n      <td>39.0</td>\n      <td>50536.0</td>\n      <td>27928.0</td>\n      <td>795989.0</td>\n      <td>16.323794</td>\n      <td>132095.0</td>\n      <td>2.708946</td>\n    </tr>\n    <tr>\n      <th>1</th>\n      <td>Alaska</td>\n      <td>AK</td>\n      <td>737068.0</td>\n      <td>34.3</td>\n      <td>77640.0</td>\n      <td>36787.0</td>\n      <td>76933.0</td>\n      <td>10.437707</td>\n      <td>26808.0</td>\n      <td>3.637114</td>\n    </tr>\n    <tr>\n      <th>2</th>\n      <td>Arizona</td>\n      <td>AZ</td>\n      <td>7050299.0</td>\n      <td>37.7</td>\n      <td>58945.0</td>\n      <td>30694.0</td>\n      <td>1043764.0</td>\n      <td>14.804535</td>\n      <td>195905.0</td>\n      <td>2.778676</td>\n    </tr>\n    <tr>\n      <th>3</th>\n      <td>Arkansas</td>\n      <td>AR</td>\n      <td>2999370.0</td>\n      <td>38.1</td>\n      <td>47597.0</td>\n      <td>26577.0</td>\n      <td>496260.0</td>\n      <td>16.545475</td>\n      <td>70481.0</td>\n      <td>2.349860</td>\n    </tr>\n    <tr>\n      <th>4</th>\n      <td>California</td>\n      <td>CA</td>\n      <td>39283497.0</td>\n      <td>36.5</td>\n      <td>75235.0</td>\n      <td>36955.0</td>\n      <td>5149742.0</td>\n      <td>13.109174</td>\n      <td>1199233.0</td>\n      <td>3.052765</td>\n    </tr>\n  </tbody>\n</table>\n</div>"
     },
     "metadata": {},
     "execution_count": 11
    }
   ],
   "source": [
    "### This is a common Jupyter Cell.  Do not modify without coordination. ###\n",
    "\n",
    "# Load clean data for State Population from Census reports\n",
    "    # This data collects census API request data by state:\n",
    "        # Population.csv\n",
    "\n",
    "Population_path = r\"..\\data_manipulation\\clean_data\\Population.csv\"\n",
    "census_df = pd.read_csv(Population_path)\n",
    "census_df.head()"
   ]
  },
  {
   "source": [],
   "cell_type": "markdown",
   "metadata": {}
  },
  {
   "source": [
    "# Group 2 Analysis"
   ],
   "cell_type": "markdown",
   "metadata": {}
  },
  {
   "cell_type": "code",
   "execution_count": null,
   "metadata": {},
   "outputs": [],
   "source": [
    "kdjflasdkjfdsalkjfa;sdl"
   ]
  }
 ]
}